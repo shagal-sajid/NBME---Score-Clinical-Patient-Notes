{
 "cells": [
  {
   "cell_type": "code",
   "execution_count": 1,
   "id": "8f9292ee",
   "metadata": {},
   "outputs": [],
   "source": [
    "import pandas as pd\n",
    "import numpy as np\n",
    "import matplotlib.pyplot as plt\n",
    "import seaborn as sns\n",
    "sns.set()\n",
    "import json\n",
    "\n",
    "import collections"
   ]
  },
  {
   "cell_type": "code",
   "execution_count": 2,
   "id": "2a5762d2",
   "metadata": {},
   "outputs": [],
   "source": [
    "# import os\n",
    "# for dirname, _, filenames in os.walk('/kaggle/input'):\n",
    "#     for filename in filenames:\n",
    "#         print(os.path.join(dirname, filename))"
   ]
  },
  {
   "cell_type": "code",
   "execution_count": 3,
   "id": "e4827916",
   "metadata": {},
   "outputs": [],
   "source": [
    "f_path = 'data/'\n",
    "features = pd.read_csv(f_path+'features.csv')\n",
    "sample_submission = pd.read_csv(f_path+'sample_submission.csv')\n",
    "patient_notes = pd.read_csv(f_path+'patient_notes.csv')\n",
    "train = pd.read_csv(f_path+'train.csv')\n",
    "test = pd.read_csv(f_path+'test.csv')"
   ]
  },
  {
   "cell_type": "markdown",
   "id": "a48c8310",
   "metadata": {},
   "source": [
    "### Exploring features.csv\n",
    "\n",
    "For a particular Case number we will have number of features, there's a verbal explanation which describes what should be marked under a particular feature.\n",
    "\n",
    "- No null value is there\n",
    "- Number of Features varies to different Cases\n",
    "- Total we have 143 features across all cases\n",
    "\n",
    "\n",
    "|Case | Number of Frquencies |\n",
    "| --- | --- |\n",
    "|0|    13|\n",
    "|1|    13|\n",
    "|2|    17|\n",
    "|3|    16|\n",
    "|4|    10|\n",
    "|5|    18|\n",
    "|6|    12|\n",
    "|7|     9|\n",
    "|8|    18|\n",
    "|9|    17|"
   ]
  },
  {
   "cell_type": "code",
   "execution_count": 4,
   "id": "00337c5a",
   "metadata": {
    "scrolled": true
   },
   "outputs": [
    {
     "name": "stdout",
     "output_type": "stream",
     "text": [
      "(143, 3)\n",
      "<class 'pandas.core.frame.DataFrame'>\n",
      "RangeIndex: 143 entries, 0 to 142\n",
      "Data columns (total 3 columns):\n",
      " #   Column        Non-Null Count  Dtype \n",
      "---  ------        --------------  ----- \n",
      " 0   feature_num   143 non-null    int64 \n",
      " 1   case_num      143 non-null    int64 \n",
      " 2   feature_text  143 non-null    object\n",
      "dtypes: int64(2), object(1)\n",
      "memory usage: 3.5+ KB\n"
     ]
    }
   ],
   "source": [
    "print(features.shape)\n",
    "features.info()\n"
   ]
  },
  {
   "cell_type": "code",
   "execution_count": 5,
   "id": "6d1134bd",
   "metadata": {},
   "outputs": [
    {
     "data": {
      "text/html": [
       "<div>\n",
       "<style scoped>\n",
       "    .dataframe tbody tr th:only-of-type {\n",
       "        vertical-align: middle;\n",
       "    }\n",
       "\n",
       "    .dataframe tbody tr th {\n",
       "        vertical-align: top;\n",
       "    }\n",
       "\n",
       "    .dataframe thead th {\n",
       "        text-align: right;\n",
       "    }\n",
       "</style>\n",
       "<table border=\"1\" class=\"dataframe\">\n",
       "  <thead>\n",
       "    <tr style=\"text-align: right;\">\n",
       "      <th></th>\n",
       "      <th>feature_num</th>\n",
       "      <th>case_num</th>\n",
       "      <th>feature_text</th>\n",
       "    </tr>\n",
       "  </thead>\n",
       "  <tbody>\n",
       "    <tr>\n",
       "      <th>0</th>\n",
       "      <td>0</td>\n",
       "      <td>0</td>\n",
       "      <td>Family-history-of-MI-OR-Family-history-of-myoc...</td>\n",
       "    </tr>\n",
       "    <tr>\n",
       "      <th>1</th>\n",
       "      <td>1</td>\n",
       "      <td>0</td>\n",
       "      <td>Family-history-of-thyroid-disorder</td>\n",
       "    </tr>\n",
       "    <tr>\n",
       "      <th>2</th>\n",
       "      <td>2</td>\n",
       "      <td>0</td>\n",
       "      <td>Chest-pressure</td>\n",
       "    </tr>\n",
       "    <tr>\n",
       "      <th>3</th>\n",
       "      <td>3</td>\n",
       "      <td>0</td>\n",
       "      <td>Intermittent-symptoms</td>\n",
       "    </tr>\n",
       "    <tr>\n",
       "      <th>4</th>\n",
       "      <td>4</td>\n",
       "      <td>0</td>\n",
       "      <td>Lightheaded</td>\n",
       "    </tr>\n",
       "  </tbody>\n",
       "</table>\n",
       "</div>"
      ],
      "text/plain": [
       "   feature_num  case_num                                       feature_text\n",
       "0            0         0  Family-history-of-MI-OR-Family-history-of-myoc...\n",
       "1            1         0                 Family-history-of-thyroid-disorder\n",
       "2            2         0                                     Chest-pressure\n",
       "3            3         0                              Intermittent-symptoms\n",
       "4            4         0                                        Lightheaded"
      ]
     },
     "execution_count": 5,
     "metadata": {},
     "output_type": "execute_result"
    }
   ],
   "source": [
    "features.head()"
   ]
  },
  {
   "cell_type": "code",
   "execution_count": 6,
   "id": "09dee165",
   "metadata": {},
   "outputs": [
    {
     "data": {
      "text/plain": [
       "case_num\n",
       "0    13\n",
       "1    13\n",
       "2    17\n",
       "3    16\n",
       "4    10\n",
       "5    18\n",
       "6    12\n",
       "7     9\n",
       "8    18\n",
       "9    17\n",
       "Name: feature_num, dtype: int64"
      ]
     },
     "execution_count": 6,
     "metadata": {},
     "output_type": "execute_result"
    }
   ],
   "source": [
    "features.groupby(['case_num'])['feature_num'].agg('count')"
   ]
  },
  {
   "cell_type": "markdown",
   "id": "1765cb29",
   "metadata": {},
   "source": [
    "### Exploring patient_notes.csv\n",
    "\n",
    "This the notes taken on each patient. \n",
    "- Patient has unique id : pn_num\n",
    "- Complete Note is given in pn_history\n",
    "- Case is identified by case_num, which is also mentioned in features\n",
    "- No Patient is repeated in the list\n",
    "- No null values\n",
    "- Total 42146 records available\n",
    "\n",
    "#### example of note : \n",
    "17-year-old male, has come to the student health clinic complaining of heart pounding. Mr. Cleveland's mother has given verbal consent for a history, physical examination, and treatment\\\n",
    "-began 2-3 months ago,sudden,intermittent for 2 days(lasting 3-4 min),worsening,non-allev/aggrav \\\n",
    "-associated with dispnea on exersion and rest,stressed out about school \\\n",
    "-reports fe feels like his heart is jumping out of his chest \\\n",
    "-ros:denies chest pain,dyaphoresis,wt loss,chills,fever,nausea,vomiting,pedal edeam \\\n",
    "-pmh:non,meds :aderol (from a friend),nkda \\\n",
    "-fh:father had MI recently,mother has thyroid dz \\\n",
    "-sh:non-smoker,mariguana 5-6 months ago,3 beers on the weekend, basketball at school \\\n",
    "-sh:no std "
   ]
  },
  {
   "cell_type": "code",
   "execution_count": 7,
   "id": "f4a80d2b",
   "metadata": {},
   "outputs": [
    {
     "name": "stdout",
     "output_type": "stream",
     "text": [
      "(42146, 3)\n",
      "<class 'pandas.core.frame.DataFrame'>\n",
      "RangeIndex: 42146 entries, 0 to 42145\n",
      "Data columns (total 3 columns):\n",
      " #   Column      Non-Null Count  Dtype \n",
      "---  ------      --------------  ----- \n",
      " 0   pn_num      42146 non-null  int64 \n",
      " 1   case_num    42146 non-null  int64 \n",
      " 2   pn_history  42146 non-null  object\n",
      "dtypes: int64(2), object(1)\n",
      "memory usage: 987.9+ KB\n"
     ]
    },
    {
     "data": {
      "text/html": [
       "<div>\n",
       "<style scoped>\n",
       "    .dataframe tbody tr th:only-of-type {\n",
       "        vertical-align: middle;\n",
       "    }\n",
       "\n",
       "    .dataframe tbody tr th {\n",
       "        vertical-align: top;\n",
       "    }\n",
       "\n",
       "    .dataframe thead th {\n",
       "        text-align: right;\n",
       "    }\n",
       "</style>\n",
       "<table border=\"1\" class=\"dataframe\">\n",
       "  <thead>\n",
       "    <tr style=\"text-align: right;\">\n",
       "      <th></th>\n",
       "      <th>pn_num</th>\n",
       "      <th>case_num</th>\n",
       "      <th>pn_history</th>\n",
       "    </tr>\n",
       "  </thead>\n",
       "  <tbody>\n",
       "    <tr>\n",
       "      <th>0</th>\n",
       "      <td>0</td>\n",
       "      <td>0</td>\n",
       "      <td>17-year-old male, has come to the student heal...</td>\n",
       "    </tr>\n",
       "    <tr>\n",
       "      <th>1</th>\n",
       "      <td>1</td>\n",
       "      <td>0</td>\n",
       "      <td>17 yo male with recurrent palpitations for the...</td>\n",
       "    </tr>\n",
       "    <tr>\n",
       "      <th>2</th>\n",
       "      <td>2</td>\n",
       "      <td>0</td>\n",
       "      <td>Dillon Cleveland is a 17 y.o. male patient wit...</td>\n",
       "    </tr>\n",
       "    <tr>\n",
       "      <th>3</th>\n",
       "      <td>3</td>\n",
       "      <td>0</td>\n",
       "      <td>a 17 yo m c/o palpitation started 3 mos ago; \\...</td>\n",
       "    </tr>\n",
       "    <tr>\n",
       "      <th>4</th>\n",
       "      <td>4</td>\n",
       "      <td>0</td>\n",
       "      <td>17yo male with no pmh here for evaluation of p...</td>\n",
       "    </tr>\n",
       "  </tbody>\n",
       "</table>\n",
       "</div>"
      ],
      "text/plain": [
       "   pn_num  case_num                                         pn_history\n",
       "0       0         0  17-year-old male, has come to the student heal...\n",
       "1       1         0  17 yo male with recurrent palpitations for the...\n",
       "2       2         0  Dillon Cleveland is a 17 y.o. male patient wit...\n",
       "3       3         0  a 17 yo m c/o palpitation started 3 mos ago; \\...\n",
       "4       4         0  17yo male with no pmh here for evaluation of p..."
      ]
     },
     "execution_count": 7,
     "metadata": {},
     "output_type": "execute_result"
    }
   ],
   "source": [
    "print(patient_notes.shape)\n",
    "patient_notes.info()\n",
    "patient_notes.head()"
   ]
  },
  {
   "cell_type": "code",
   "execution_count": 8,
   "id": "017c03a6",
   "metadata": {},
   "outputs": [
    {
     "data": {
      "text/plain": [
       "42146"
      ]
     },
     "execution_count": 8,
     "metadata": {},
     "output_type": "execute_result"
    }
   ],
   "source": [
    "len(patient_notes['pn_num'].unique())"
   ]
  },
  {
   "cell_type": "code",
   "execution_count": 9,
   "id": "6e03f94c",
   "metadata": {},
   "outputs": [
    {
     "name": "stdout",
     "output_type": "stream",
     "text": [
      "17-year-old male, has come to the student health clinic complaining of heart pounding. Mr. Cleveland's mother has given verbal consent for a history, physical examination, and treatment\r\n",
      "-began 2-3 months ago,sudden,intermittent for 2 days(lasting 3-4 min),worsening,non-allev/aggrav\r\n",
      "-associated with dispnea on exersion and rest,stressed out about school\r\n",
      "-reports fe feels like his heart is jumping out of his chest\r\n",
      "-ros:denies chest pain,dyaphoresis,wt loss,chills,fever,nausea,vomiting,pedal edeam\r\n",
      "-pmh:non,meds :aderol (from a friend),nkda\r\n",
      "-fh:father had MI recently,mother has thyroid dz\r\n",
      "-sh:non-smoker,mariguana 5-6 months ago,3 beers on the weekend, basketball at school\r\n",
      "-sh:no std\n"
     ]
    }
   ],
   "source": [
    "print(patient_notes[patient_notes['pn_num']==0]['pn_history'][0])"
   ]
  },
  {
   "cell_type": "markdown",
   "id": "a6f3bb5b",
   "metadata": {},
   "source": [
    "### Exploring train.csv\n",
    "\n",
    "Train CSV is a combination of Feature and Patient Note\n",
    "- There's unique ID for each row\n",
    "- Case Number, Patient Number and Feature Number is associating with previous dataframes\n",
    "- From Patients note (pn_history). features matching with features table for particular case is identified\n",
    "- in annotation the key statement is annoted and on location character wise location is given"
   ]
  },
  {
   "cell_type": "code",
   "execution_count": 10,
   "id": "f8dac2d4",
   "metadata": {},
   "outputs": [
    {
     "name": "stdout",
     "output_type": "stream",
     "text": [
      "(14300, 6)\n",
      "<class 'pandas.core.frame.DataFrame'>\n",
      "RangeIndex: 14300 entries, 0 to 14299\n",
      "Data columns (total 6 columns):\n",
      " #   Column       Non-Null Count  Dtype \n",
      "---  ------       --------------  ----- \n",
      " 0   id           14300 non-null  object\n",
      " 1   case_num     14300 non-null  int64 \n",
      " 2   pn_num       14300 non-null  int64 \n",
      " 3   feature_num  14300 non-null  int64 \n",
      " 4   annotation   14300 non-null  object\n",
      " 5   location     14300 non-null  object\n",
      "dtypes: int64(3), object(3)\n",
      "memory usage: 670.4+ KB\n"
     ]
    },
    {
     "data": {
      "text/html": [
       "<div>\n",
       "<style scoped>\n",
       "    .dataframe tbody tr th:only-of-type {\n",
       "        vertical-align: middle;\n",
       "    }\n",
       "\n",
       "    .dataframe tbody tr th {\n",
       "        vertical-align: top;\n",
       "    }\n",
       "\n",
       "    .dataframe thead th {\n",
       "        text-align: right;\n",
       "    }\n",
       "</style>\n",
       "<table border=\"1\" class=\"dataframe\">\n",
       "  <thead>\n",
       "    <tr style=\"text-align: right;\">\n",
       "      <th></th>\n",
       "      <th>id</th>\n",
       "      <th>case_num</th>\n",
       "      <th>pn_num</th>\n",
       "      <th>feature_num</th>\n",
       "      <th>annotation</th>\n",
       "      <th>location</th>\n",
       "    </tr>\n",
       "  </thead>\n",
       "  <tbody>\n",
       "    <tr>\n",
       "      <th>0</th>\n",
       "      <td>00016_000</td>\n",
       "      <td>0</td>\n",
       "      <td>16</td>\n",
       "      <td>0</td>\n",
       "      <td>['dad with recent heart attcak']</td>\n",
       "      <td>['696 724']</td>\n",
       "    </tr>\n",
       "    <tr>\n",
       "      <th>1</th>\n",
       "      <td>00016_001</td>\n",
       "      <td>0</td>\n",
       "      <td>16</td>\n",
       "      <td>1</td>\n",
       "      <td>['mom with \"thyroid disease']</td>\n",
       "      <td>['668 693']</td>\n",
       "    </tr>\n",
       "    <tr>\n",
       "      <th>2</th>\n",
       "      <td>00016_002</td>\n",
       "      <td>0</td>\n",
       "      <td>16</td>\n",
       "      <td>2</td>\n",
       "      <td>['chest pressure']</td>\n",
       "      <td>['203 217']</td>\n",
       "    </tr>\n",
       "    <tr>\n",
       "      <th>3</th>\n",
       "      <td>00016_003</td>\n",
       "      <td>0</td>\n",
       "      <td>16</td>\n",
       "      <td>3</td>\n",
       "      <td>['intermittent episodes', 'episode']</td>\n",
       "      <td>['70 91', '176 183']</td>\n",
       "    </tr>\n",
       "    <tr>\n",
       "      <th>4</th>\n",
       "      <td>00016_004</td>\n",
       "      <td>0</td>\n",
       "      <td>16</td>\n",
       "      <td>4</td>\n",
       "      <td>['felt as if he were going to pass out']</td>\n",
       "      <td>['222 258']</td>\n",
       "    </tr>\n",
       "  </tbody>\n",
       "</table>\n",
       "</div>"
      ],
      "text/plain": [
       "          id  case_num  pn_num  feature_num  \\\n",
       "0  00016_000         0      16            0   \n",
       "1  00016_001         0      16            1   \n",
       "2  00016_002         0      16            2   \n",
       "3  00016_003         0      16            3   \n",
       "4  00016_004         0      16            4   \n",
       "\n",
       "                                 annotation              location  \n",
       "0          ['dad with recent heart attcak']           ['696 724']  \n",
       "1             ['mom with \"thyroid disease']           ['668 693']  \n",
       "2                        ['chest pressure']           ['203 217']  \n",
       "3      ['intermittent episodes', 'episode']  ['70 91', '176 183']  \n",
       "4  ['felt as if he were going to pass out']           ['222 258']  "
      ]
     },
     "execution_count": 10,
     "metadata": {},
     "output_type": "execute_result"
    }
   ],
   "source": [
    "print(train.shape)\n",
    "train.info()\n",
    "train.head()"
   ]
  },
  {
   "cell_type": "code",
   "execution_count": 11,
   "id": "8e8dda7d",
   "metadata": {},
   "outputs": [
    {
     "data": {
      "text/html": [
       "<div>\n",
       "<style scoped>\n",
       "    .dataframe tbody tr th:only-of-type {\n",
       "        vertical-align: middle;\n",
       "    }\n",
       "\n",
       "    .dataframe tbody tr th {\n",
       "        vertical-align: top;\n",
       "    }\n",
       "\n",
       "    .dataframe thead th {\n",
       "        text-align: right;\n",
       "    }\n",
       "</style>\n",
       "<table border=\"1\" class=\"dataframe\">\n",
       "  <thead>\n",
       "    <tr style=\"text-align: right;\">\n",
       "      <th></th>\n",
       "      <th>id</th>\n",
       "      <th>case_num</th>\n",
       "      <th>pn_num</th>\n",
       "      <th>feature_num</th>\n",
       "    </tr>\n",
       "  </thead>\n",
       "  <tbody>\n",
       "    <tr>\n",
       "      <th>0</th>\n",
       "      <td>00016_000</td>\n",
       "      <td>0</td>\n",
       "      <td>16</td>\n",
       "      <td>0</td>\n",
       "    </tr>\n",
       "    <tr>\n",
       "      <th>1</th>\n",
       "      <td>00016_001</td>\n",
       "      <td>0</td>\n",
       "      <td>16</td>\n",
       "      <td>1</td>\n",
       "    </tr>\n",
       "    <tr>\n",
       "      <th>2</th>\n",
       "      <td>00016_002</td>\n",
       "      <td>0</td>\n",
       "      <td>16</td>\n",
       "      <td>2</td>\n",
       "    </tr>\n",
       "    <tr>\n",
       "      <th>3</th>\n",
       "      <td>00016_003</td>\n",
       "      <td>0</td>\n",
       "      <td>16</td>\n",
       "      <td>3</td>\n",
       "    </tr>\n",
       "    <tr>\n",
       "      <th>4</th>\n",
       "      <td>00016_004</td>\n",
       "      <td>0</td>\n",
       "      <td>16</td>\n",
       "      <td>4</td>\n",
       "    </tr>\n",
       "  </tbody>\n",
       "</table>\n",
       "</div>"
      ],
      "text/plain": [
       "          id  case_num  pn_num  feature_num\n",
       "0  00016_000         0      16            0\n",
       "1  00016_001         0      16            1\n",
       "2  00016_002         0      16            2\n",
       "3  00016_003         0      16            3\n",
       "4  00016_004         0      16            4"
      ]
     },
     "execution_count": 11,
     "metadata": {},
     "output_type": "execute_result"
    }
   ],
   "source": [
    "test.head()"
   ]
  },
  {
   "cell_type": "code",
   "execution_count": 12,
   "id": "3b7b3540",
   "metadata": {},
   "outputs": [
    {
     "data": {
      "text/html": [
       "<div>\n",
       "<style scoped>\n",
       "    .dataframe tbody tr th:only-of-type {\n",
       "        vertical-align: middle;\n",
       "    }\n",
       "\n",
       "    .dataframe tbody tr th {\n",
       "        vertical-align: top;\n",
       "    }\n",
       "\n",
       "    .dataframe thead th {\n",
       "        text-align: right;\n",
       "    }\n",
       "</style>\n",
       "<table border=\"1\" class=\"dataframe\">\n",
       "  <thead>\n",
       "    <tr style=\"text-align: right;\">\n",
       "      <th></th>\n",
       "      <th>id</th>\n",
       "      <th>location</th>\n",
       "    </tr>\n",
       "  </thead>\n",
       "  <tbody>\n",
       "    <tr>\n",
       "      <th>0</th>\n",
       "      <td>00016_000</td>\n",
       "      <td>0 100</td>\n",
       "    </tr>\n",
       "    <tr>\n",
       "      <th>1</th>\n",
       "      <td>00016_001</td>\n",
       "      <td>NaN</td>\n",
       "    </tr>\n",
       "    <tr>\n",
       "      <th>2</th>\n",
       "      <td>00016_002</td>\n",
       "      <td>200 250;300 400</td>\n",
       "    </tr>\n",
       "    <tr>\n",
       "      <th>3</th>\n",
       "      <td>00016_003</td>\n",
       "      <td>NaN</td>\n",
       "    </tr>\n",
       "    <tr>\n",
       "      <th>4</th>\n",
       "      <td>00016_004</td>\n",
       "      <td>75 110</td>\n",
       "    </tr>\n",
       "  </tbody>\n",
       "</table>\n",
       "</div>"
      ],
      "text/plain": [
       "          id         location\n",
       "0  00016_000            0 100\n",
       "1  00016_001              NaN\n",
       "2  00016_002  200 250;300 400\n",
       "3  00016_003              NaN\n",
       "4  00016_004           75 110"
      ]
     },
     "execution_count": 12,
     "metadata": {},
     "output_type": "execute_result"
    }
   ],
   "source": [
    "sample_submission.head()"
   ]
  },
  {
   "cell_type": "markdown",
   "id": "907a1276",
   "metadata": {},
   "source": [
    "### Let's Try to Figure out the requirement Mannually\n",
    "\n",
    "Just like search engine and tags. We can try to figure out the statement which valid using the frequently used Keys. Here I'm trying to find out most frequently used keys for each feature in each case, which we can later use for further analysis"
   ]
  },
  {
   "cell_type": "code",
   "execution_count": 13,
   "id": "77fa42b9",
   "metadata": {},
   "outputs": [
    {
     "data": {
      "text/html": [
       "<div>\n",
       "<style scoped>\n",
       "    .dataframe tbody tr th:only-of-type {\n",
       "        vertical-align: middle;\n",
       "    }\n",
       "\n",
       "    .dataframe tbody tr th {\n",
       "        vertical-align: top;\n",
       "    }\n",
       "\n",
       "    .dataframe thead th {\n",
       "        text-align: right;\n",
       "    }\n",
       "</style>\n",
       "<table border=\"1\" class=\"dataframe\">\n",
       "  <thead>\n",
       "    <tr style=\"text-align: right;\">\n",
       "      <th></th>\n",
       "      <th>id</th>\n",
       "      <th>case_num</th>\n",
       "      <th>pn_num</th>\n",
       "      <th>feature_num</th>\n",
       "      <th>annotation</th>\n",
       "      <th>location</th>\n",
       "    </tr>\n",
       "  </thead>\n",
       "  <tbody>\n",
       "    <tr>\n",
       "      <th>0</th>\n",
       "      <td>00016_000</td>\n",
       "      <td>0</td>\n",
       "      <td>16</td>\n",
       "      <td>0</td>\n",
       "      <td>['dad with recent heart attcak']</td>\n",
       "      <td>['696 724']</td>\n",
       "    </tr>\n",
       "    <tr>\n",
       "      <th>1</th>\n",
       "      <td>00016_001</td>\n",
       "      <td>0</td>\n",
       "      <td>16</td>\n",
       "      <td>1</td>\n",
       "      <td>['mom with \"thyroid disease']</td>\n",
       "      <td>['668 693']</td>\n",
       "    </tr>\n",
       "    <tr>\n",
       "      <th>2</th>\n",
       "      <td>00016_002</td>\n",
       "      <td>0</td>\n",
       "      <td>16</td>\n",
       "      <td>2</td>\n",
       "      <td>['chest pressure']</td>\n",
       "      <td>['203 217']</td>\n",
       "    </tr>\n",
       "    <tr>\n",
       "      <th>3</th>\n",
       "      <td>00016_003</td>\n",
       "      <td>0</td>\n",
       "      <td>16</td>\n",
       "      <td>3</td>\n",
       "      <td>['intermittent episodes', 'episode']</td>\n",
       "      <td>['70 91', '176 183']</td>\n",
       "    </tr>\n",
       "    <tr>\n",
       "      <th>4</th>\n",
       "      <td>00016_004</td>\n",
       "      <td>0</td>\n",
       "      <td>16</td>\n",
       "      <td>4</td>\n",
       "      <td>['felt as if he were going to pass out']</td>\n",
       "      <td>['222 258']</td>\n",
       "    </tr>\n",
       "    <tr>\n",
       "      <th>5</th>\n",
       "      <td>00016_005</td>\n",
       "      <td>0</td>\n",
       "      <td>16</td>\n",
       "      <td>5</td>\n",
       "      <td>[]</td>\n",
       "      <td>[]</td>\n",
       "    </tr>\n",
       "    <tr>\n",
       "      <th>6</th>\n",
       "      <td>00016_006</td>\n",
       "      <td>0</td>\n",
       "      <td>16</td>\n",
       "      <td>6</td>\n",
       "      <td>['adderall', 'adderrall', 'adderrall']</td>\n",
       "      <td>['321 329', '404 413', '652 661']</td>\n",
       "    </tr>\n",
       "    <tr>\n",
       "      <th>7</th>\n",
       "      <td>00016_007</td>\n",
       "      <td>0</td>\n",
       "      <td>16</td>\n",
       "      <td>7</td>\n",
       "      <td>[]</td>\n",
       "      <td>[]</td>\n",
       "    </tr>\n",
       "    <tr>\n",
       "      <th>8</th>\n",
       "      <td>00016_008</td>\n",
       "      <td>0</td>\n",
       "      <td>16</td>\n",
       "      <td>8</td>\n",
       "      <td>[]</td>\n",
       "      <td>[]</td>\n",
       "    </tr>\n",
       "    <tr>\n",
       "      <th>9</th>\n",
       "      <td>00016_009</td>\n",
       "      <td>0</td>\n",
       "      <td>16</td>\n",
       "      <td>9</td>\n",
       "      <td>['palpitations', 'heart beating/pounding']</td>\n",
       "      <td>['26 38', '96 118']</td>\n",
       "    </tr>\n",
       "    <tr>\n",
       "      <th>10</th>\n",
       "      <td>00016_010</td>\n",
       "      <td>0</td>\n",
       "      <td>16</td>\n",
       "      <td>10</td>\n",
       "      <td>['3-4 months of']</td>\n",
       "      <td>['56 69']</td>\n",
       "    </tr>\n",
       "    <tr>\n",
       "      <th>11</th>\n",
       "      <td>00016_011</td>\n",
       "      <td>0</td>\n",
       "      <td>16</td>\n",
       "      <td>11</td>\n",
       "      <td>['17yo']</td>\n",
       "      <td>['5 9']</td>\n",
       "    </tr>\n",
       "    <tr>\n",
       "      <th>12</th>\n",
       "      <td>00016_012</td>\n",
       "      <td>0</td>\n",
       "      <td>16</td>\n",
       "      <td>12</td>\n",
       "      <td>['M']</td>\n",
       "      <td>['10 11']</td>\n",
       "    </tr>\n",
       "  </tbody>\n",
       "</table>\n",
       "</div>"
      ],
      "text/plain": [
       "           id  case_num  pn_num  feature_num  \\\n",
       "0   00016_000         0      16            0   \n",
       "1   00016_001         0      16            1   \n",
       "2   00016_002         0      16            2   \n",
       "3   00016_003         0      16            3   \n",
       "4   00016_004         0      16            4   \n",
       "5   00016_005         0      16            5   \n",
       "6   00016_006         0      16            6   \n",
       "7   00016_007         0      16            7   \n",
       "8   00016_008         0      16            8   \n",
       "9   00016_009         0      16            9   \n",
       "10  00016_010         0      16           10   \n",
       "11  00016_011         0      16           11   \n",
       "12  00016_012         0      16           12   \n",
       "\n",
       "                                    annotation  \\\n",
       "0             ['dad with recent heart attcak']   \n",
       "1                ['mom with \"thyroid disease']   \n",
       "2                           ['chest pressure']   \n",
       "3         ['intermittent episodes', 'episode']   \n",
       "4     ['felt as if he were going to pass out']   \n",
       "5                                           []   \n",
       "6       ['adderall', 'adderrall', 'adderrall']   \n",
       "7                                           []   \n",
       "8                                           []   \n",
       "9   ['palpitations', 'heart beating/pounding']   \n",
       "10                           ['3-4 months of']   \n",
       "11                                    ['17yo']   \n",
       "12                                       ['M']   \n",
       "\n",
       "                             location  \n",
       "0                         ['696 724']  \n",
       "1                         ['668 693']  \n",
       "2                         ['203 217']  \n",
       "3                ['70 91', '176 183']  \n",
       "4                         ['222 258']  \n",
       "5                                  []  \n",
       "6   ['321 329', '404 413', '652 661']  \n",
       "7                                  []  \n",
       "8                                  []  \n",
       "9                 ['26 38', '96 118']  \n",
       "10                          ['56 69']  \n",
       "11                            ['5 9']  \n",
       "12                          ['10 11']  "
      ]
     },
     "execution_count": 13,
     "metadata": {},
     "output_type": "execute_result"
    }
   ],
   "source": [
    "# I'm listing out all annotations of patient no : 16 as per the training data\n",
    "train[train['pn_num']==16]"
   ]
  },
  {
   "cell_type": "code",
   "execution_count": 14,
   "id": "5df4271a",
   "metadata": {},
   "outputs": [
    {
     "name": "stdout",
     "output_type": "stream",
     "text": [
      "HPI: 17yo M presents with palpitations. Patient reports 3-4 months of intermittent episodes of \"heart beating/pounding out of my chest.\" 2 days ago during a soccer game had an episode, but this time had chest pressure and felt as if he were going to pass out (did not lose conciousness). Of note patient endorses abusing adderall, primarily to study (1-3 times per week). Before recent soccer game, took adderrall night before and morning of game. Denies shortness of breath, diaphoresis, fevers, chills, headache, fatigue, changes in sleep, changes in vision/hearing, abdominal paun, changes in bowel or urinary habits. \r\n",
      "PMHx: none\r\n",
      "Rx: uses friends adderrall\r\n",
      "FHx: mom with \"thyroid disease,\" dad with recent heart attcak\r\n",
      "All: none\r\n",
      "Immunizations: up to date\r\n",
      "SHx: Freshmen in college. Endorses 3-4 drinks 3 nights / week (on weekends), denies tabacco, endorses trying marijuana. Sexually active with girlfriend x 1 year, uses condoms\n"
     ]
    }
   ],
   "source": [
    "# Also I'm checking the note from which We were able to pick the annotations.\n",
    "print(patient_notes[patient_notes['pn_num']==16]['pn_history'][16])"
   ]
  },
  {
   "cell_type": "code",
   "execution_count": 15,
   "id": "609c45b5",
   "metadata": {},
   "outputs": [
    {
     "data": {
      "text/html": [
       "<div>\n",
       "<style scoped>\n",
       "    .dataframe tbody tr th:only-of-type {\n",
       "        vertical-align: middle;\n",
       "    }\n",
       "\n",
       "    .dataframe tbody tr th {\n",
       "        vertical-align: top;\n",
       "    }\n",
       "\n",
       "    .dataframe thead th {\n",
       "        text-align: right;\n",
       "    }\n",
       "</style>\n",
       "<table border=\"1\" class=\"dataframe\">\n",
       "  <thead>\n",
       "    <tr style=\"text-align: right;\">\n",
       "      <th></th>\n",
       "      <th>feature_num</th>\n",
       "      <th>case_num</th>\n",
       "      <th>feature_text</th>\n",
       "    </tr>\n",
       "  </thead>\n",
       "  <tbody>\n",
       "    <tr>\n",
       "      <th>0</th>\n",
       "      <td>0</td>\n",
       "      <td>0</td>\n",
       "      <td>Family-history-of-MI-OR-Family-history-of-myoc...</td>\n",
       "    </tr>\n",
       "    <tr>\n",
       "      <th>1</th>\n",
       "      <td>1</td>\n",
       "      <td>0</td>\n",
       "      <td>Family-history-of-thyroid-disorder</td>\n",
       "    </tr>\n",
       "    <tr>\n",
       "      <th>2</th>\n",
       "      <td>2</td>\n",
       "      <td>0</td>\n",
       "      <td>Chest-pressure</td>\n",
       "    </tr>\n",
       "    <tr>\n",
       "      <th>3</th>\n",
       "      <td>3</td>\n",
       "      <td>0</td>\n",
       "      <td>Intermittent-symptoms</td>\n",
       "    </tr>\n",
       "    <tr>\n",
       "      <th>4</th>\n",
       "      <td>4</td>\n",
       "      <td>0</td>\n",
       "      <td>Lightheaded</td>\n",
       "    </tr>\n",
       "    <tr>\n",
       "      <th>5</th>\n",
       "      <td>5</td>\n",
       "      <td>0</td>\n",
       "      <td>No-hair-changes-OR-no-nail-changes-OR-no-tempe...</td>\n",
       "    </tr>\n",
       "    <tr>\n",
       "      <th>6</th>\n",
       "      <td>6</td>\n",
       "      <td>0</td>\n",
       "      <td>Adderall-use</td>\n",
       "    </tr>\n",
       "    <tr>\n",
       "      <th>7</th>\n",
       "      <td>7</td>\n",
       "      <td>0</td>\n",
       "      <td>Shortness-of-breath</td>\n",
       "    </tr>\n",
       "    <tr>\n",
       "      <th>8</th>\n",
       "      <td>8</td>\n",
       "      <td>0</td>\n",
       "      <td>Caffeine-use</td>\n",
       "    </tr>\n",
       "    <tr>\n",
       "      <th>9</th>\n",
       "      <td>9</td>\n",
       "      <td>0</td>\n",
       "      <td>heart-pounding-OR-heart-racing</td>\n",
       "    </tr>\n",
       "    <tr>\n",
       "      <th>10</th>\n",
       "      <td>10</td>\n",
       "      <td>0</td>\n",
       "      <td>Few-months-duration</td>\n",
       "    </tr>\n",
       "    <tr>\n",
       "      <th>11</th>\n",
       "      <td>11</td>\n",
       "      <td>0</td>\n",
       "      <td>17-year</td>\n",
       "    </tr>\n",
       "    <tr>\n",
       "      <th>12</th>\n",
       "      <td>12</td>\n",
       "      <td>0</td>\n",
       "      <td>Male</td>\n",
       "    </tr>\n",
       "  </tbody>\n",
       "</table>\n",
       "</div>"
      ],
      "text/plain": [
       "    feature_num  case_num                                       feature_text\n",
       "0             0         0  Family-history-of-MI-OR-Family-history-of-myoc...\n",
       "1             1         0                 Family-history-of-thyroid-disorder\n",
       "2             2         0                                     Chest-pressure\n",
       "3             3         0                              Intermittent-symptoms\n",
       "4             4         0                                        Lightheaded\n",
       "5             5         0  No-hair-changes-OR-no-nail-changes-OR-no-tempe...\n",
       "6             6         0                                       Adderall-use\n",
       "7             7         0                                Shortness-of-breath\n",
       "8             8         0                                       Caffeine-use\n",
       "9             9         0                     heart-pounding-OR-heart-racing\n",
       "10           10         0                                Few-months-duration\n",
       "11           11         0                                            17-year\n",
       "12           12         0                                               Male"
      ]
     },
     "execution_count": 15,
     "metadata": {},
     "output_type": "execute_result"
    }
   ],
   "source": [
    "# I'm listing out all the features of the particular case patient 16 is having\n",
    "features[features['case_num']==0]"
   ]
  },
  {
   "cell_type": "code",
   "execution_count": 16,
   "id": "63d9fcff",
   "metadata": {},
   "outputs": [
    {
     "data": {
      "text/plain": [
       "'Family-history-of-MI-OR-Family-history-of-myocardial-infarction'"
      ]
     },
     "execution_count": 16,
     "metadata": {},
     "output_type": "execute_result"
    }
   ],
   "source": [
    "# expanding feature 0\n",
    "features[features['case_num']==0]['feature_text'][0]"
   ]
  },
  {
   "cell_type": "code",
   "execution_count": 17,
   "id": "1490b6c1",
   "metadata": {},
   "outputs": [
    {
     "data": {
      "text/plain": [
       "'No-hair-changes-OR-no-nail-changes-OR-no-temperature-intolerance'"
      ]
     },
     "execution_count": 17,
     "metadata": {},
     "output_type": "execute_result"
    }
   ],
   "source": [
    "# expanding feature 5\n",
    "features[features['case_num']==0]['feature_text'][5]"
   ]
  },
  {
   "cell_type": "markdown",
   "id": "9a0996fd",
   "metadata": {},
   "source": [
    "### Trying to Solve for one Feature \n",
    "\n",
    "I'm trying to implement a key word list for 1 particular feature. Once we finish we'll try to create a method and run for all rows in features and store it in a dataframe"
   ]
  },
  {
   "cell_type": "code",
   "execution_count": 18,
   "id": "dedaab55",
   "metadata": {},
   "outputs": [],
   "source": [
    "# Duplicating train df\n",
    "dummy_train = train.copy()"
   ]
  },
  {
   "cell_type": "code",
   "execution_count": 19,
   "id": "74f1f113",
   "metadata": {},
   "outputs": [
    {
     "name": "stderr",
     "output_type": "stream",
     "text": [
      "/Users/shagalsajid/opt/anaconda3/envs/py3-TF2.0/lib/python3.7/site-packages/ipykernel_launcher.py:2: FutureWarning: The default value of regex will change from True to False in a future version. In addition, single character regular expressions will *not* be treated as literal strings when regex=True.\n",
      "  \n",
      "/Users/shagalsajid/opt/anaconda3/envs/py3-TF2.0/lib/python3.7/site-packages/ipykernel_launcher.py:3: FutureWarning: The default value of regex will change from True to False in a future version. In addition, single character regular expressions will *not* be treated as literal strings when regex=True.\n",
      "  This is separate from the ipykernel package so we can avoid doing imports until\n"
     ]
    },
    {
     "data": {
      "text/html": [
       "<div>\n",
       "<style scoped>\n",
       "    .dataframe tbody tr th:only-of-type {\n",
       "        vertical-align: middle;\n",
       "    }\n",
       "\n",
       "    .dataframe tbody tr th {\n",
       "        vertical-align: top;\n",
       "    }\n",
       "\n",
       "    .dataframe thead th {\n",
       "        text-align: right;\n",
       "    }\n",
       "</style>\n",
       "<table border=\"1\" class=\"dataframe\">\n",
       "  <thead>\n",
       "    <tr style=\"text-align: right;\">\n",
       "      <th></th>\n",
       "      <th>id</th>\n",
       "      <th>case_num</th>\n",
       "      <th>pn_num</th>\n",
       "      <th>feature_num</th>\n",
       "      <th>annotation</th>\n",
       "      <th>location</th>\n",
       "    </tr>\n",
       "  </thead>\n",
       "  <tbody>\n",
       "    <tr>\n",
       "      <th>0</th>\n",
       "      <td>00016_000</td>\n",
       "      <td>0</td>\n",
       "      <td>16</td>\n",
       "      <td>0</td>\n",
       "      <td>dad with recent heart attcak</td>\n",
       "      <td>['696 724']</td>\n",
       "    </tr>\n",
       "    <tr>\n",
       "      <th>1</th>\n",
       "      <td>00016_001</td>\n",
       "      <td>0</td>\n",
       "      <td>16</td>\n",
       "      <td>1</td>\n",
       "      <td>mom with thyroid disease</td>\n",
       "      <td>['668 693']</td>\n",
       "    </tr>\n",
       "    <tr>\n",
       "      <th>2</th>\n",
       "      <td>00016_002</td>\n",
       "      <td>0</td>\n",
       "      <td>16</td>\n",
       "      <td>2</td>\n",
       "      <td>chest pressure</td>\n",
       "      <td>['203 217']</td>\n",
       "    </tr>\n",
       "    <tr>\n",
       "      <th>3</th>\n",
       "      <td>00016_003</td>\n",
       "      <td>0</td>\n",
       "      <td>16</td>\n",
       "      <td>3</td>\n",
       "      <td>intermittent episodes episode</td>\n",
       "      <td>['70 91', '176 183']</td>\n",
       "    </tr>\n",
       "    <tr>\n",
       "      <th>4</th>\n",
       "      <td>00016_004</td>\n",
       "      <td>0</td>\n",
       "      <td>16</td>\n",
       "      <td>4</td>\n",
       "      <td>felt as if he were going to pass out</td>\n",
       "      <td>['222 258']</td>\n",
       "    </tr>\n",
       "    <tr>\n",
       "      <th>...</th>\n",
       "      <td>...</td>\n",
       "      <td>...</td>\n",
       "      <td>...</td>\n",
       "      <td>...</td>\n",
       "      <td>...</td>\n",
       "      <td>...</td>\n",
       "    </tr>\n",
       "    <tr>\n",
       "      <th>14295</th>\n",
       "      <td>95333_912</td>\n",
       "      <td>9</td>\n",
       "      <td>95333</td>\n",
       "      <td>912</td>\n",
       "      <td></td>\n",
       "      <td>[]</td>\n",
       "    </tr>\n",
       "    <tr>\n",
       "      <th>14296</th>\n",
       "      <td>95333_913</td>\n",
       "      <td>9</td>\n",
       "      <td>95333</td>\n",
       "      <td>913</td>\n",
       "      <td></td>\n",
       "      <td>[]</td>\n",
       "    </tr>\n",
       "    <tr>\n",
       "      <th>14297</th>\n",
       "      <td>95333_914</td>\n",
       "      <td>9</td>\n",
       "      <td>95333</td>\n",
       "      <td>914</td>\n",
       "      <td>photobia</td>\n",
       "      <td>['274 282']</td>\n",
       "    </tr>\n",
       "    <tr>\n",
       "      <th>14298</th>\n",
       "      <td>95333_915</td>\n",
       "      <td>9</td>\n",
       "      <td>95333</td>\n",
       "      <td>915</td>\n",
       "      <td>no sick contacts</td>\n",
       "      <td>['421 437']</td>\n",
       "    </tr>\n",
       "    <tr>\n",
       "      <th>14299</th>\n",
       "      <td>95333_916</td>\n",
       "      <td>9</td>\n",
       "      <td>95333</td>\n",
       "      <td>916</td>\n",
       "      <td>subjective fever</td>\n",
       "      <td>['314 330']</td>\n",
       "    </tr>\n",
       "  </tbody>\n",
       "</table>\n",
       "<p>14300 rows × 6 columns</p>\n",
       "</div>"
      ],
      "text/plain": [
       "              id  case_num  pn_num  feature_num  \\\n",
       "0      00016_000         0      16            0   \n",
       "1      00016_001         0      16            1   \n",
       "2      00016_002         0      16            2   \n",
       "3      00016_003         0      16            3   \n",
       "4      00016_004         0      16            4   \n",
       "...          ...       ...     ...          ...   \n",
       "14295  95333_912         9   95333          912   \n",
       "14296  95333_913         9   95333          913   \n",
       "14297  95333_914         9   95333          914   \n",
       "14298  95333_915         9   95333          915   \n",
       "14299  95333_916         9   95333          916   \n",
       "\n",
       "                                 annotation              location  \n",
       "0              dad with recent heart attcak           ['696 724']  \n",
       "1                  mom with thyroid disease           ['668 693']  \n",
       "2                            chest pressure           ['203 217']  \n",
       "3             intermittent episodes episode  ['70 91', '176 183']  \n",
       "4      felt as if he were going to pass out           ['222 258']  \n",
       "...                                     ...                   ...  \n",
       "14295                                                          []  \n",
       "14296                                                          []  \n",
       "14297                              photobia           ['274 282']  \n",
       "14298                      no sick contacts           ['421 437']  \n",
       "14299                      subjective fever           ['314 330']  \n",
       "\n",
       "[14300 rows x 6 columns]"
      ]
     },
     "execution_count": 19,
     "metadata": {},
     "output_type": "execute_result"
    }
   ],
   "source": [
    "# removing all unnecessary characters from the data frame\n",
    "dummy_train['annotation']  = dummy_train['annotation'].str.replace('[','')\n",
    "dummy_train['annotation']  = dummy_train['annotation'].str.replace(']','')\n",
    "dummy_train['annotation']  = dummy_train['annotation'].str.replace(\"'\",\"\")\n",
    "dummy_train['annotation']  = dummy_train['annotation'].str.replace('\"','')\n",
    "dummy_train['annotation']  = dummy_train['annotation'].str.replace(',','')\n",
    "dummy_train['annotation']  = dummy_train['annotation'].str.replace('-',' ')\n",
    "dummy_train['annotation']  = dummy_train['annotation'].str.replace(':',' ')\n",
    "\n",
    "# changing all words to lower so we can avoid repetition \n",
    "dummy_train['annotation']  = dummy_train['annotation'].str.lower()\n",
    "dummy_train"
   ]
  },
  {
   "cell_type": "code",
   "execution_count": 20,
   "id": "7ed0ba62",
   "metadata": {
    "scrolled": true
   },
   "outputs": [
    {
     "name": "stdout",
     "output_type": "stream",
     "text": [
      "<class 'numpy.ndarray'>\n",
      "['dad with recent heart attcak' '' 'father  heart attack' 'father mi'\n",
      " 'dad mi' 'father had acute mi' 'father heart attach' 'dad had recent mi'\n",
      " 'dad had heart attack' 'father heart problem'\n",
      " 'mi of his father father had mi' 'mi in the father'\n",
      " 'father with heart attack recently father with heart attack'\n",
      " 'father had an mi' 'dad had mi' 'father hx of mi'\n",
      " 'father had a heart attack' 'father had mi' 'father with mi'\n",
      " 'father had heart attack' 'heart attack 1 year ago   father'\n",
      " 'ather heart attack' 'father heart attack' 'heart attack in father'\n",
      " 'mi at 52 for father' 'dad   heart attack' 'father recently had an mi'\n",
      " 'mi in his father' 'father had problems with heart'\n",
      " 'dad with heart attack' 'dad  heart problem'\n",
      " 'fh positive for a recent heart attack father  mi'\n",
      " 'dad has cardiac issues' 'dad with recent heart attack' 'father  mi'\n",
      " 'father   mi' 'father had possible mi' 'dad heart attack'\n",
      " 'dad had a heart attack' 'father  myocardial infarction' 'cad in father'\n",
      " 'father suffer an mi' 'father with herat attack'\n",
      " 'father has heart problem' 'father had heart disease' 'dad hx mi'\n",
      " 'dad  heart attack' 'father with heart attack' 'mi father'\n",
      " 'father mi father had a heart attack']\n"
     ]
    }
   ],
   "source": [
    "# Taking all unique values for a particular feature for a particular case and storing values to an array\n",
    "feature_list = pd.Series(dummy_train[(train['case_num']==0) & (train['feature_num']==0)]['annotation']).unique()\n",
    "print(type(feature_list))\n",
    "print(feature_list)"
   ]
  },
  {
   "cell_type": "code",
   "execution_count": 21,
   "id": "eabff54a",
   "metadata": {},
   "outputs": [
    {
     "name": "stdout",
     "output_type": "stream",
     "text": [
      "<class 'list'>\n",
      "['dad', 'with', 'recent', 'heart', 'attcak', 'father', 'heart', 'attack', 'father', 'mi', 'dad', 'mi', 'father', 'had', 'acute', 'mi', 'father', 'heart', 'attach', 'dad', 'had', 'recent', 'mi', 'dad', 'had', 'heart', 'attack', 'father', 'heart', 'problem', 'mi', 'of', 'his', 'father', 'father', 'had', 'mi', 'mi', 'in', 'the', 'father', 'father', 'with', 'heart', 'attack', 'recently', 'father', 'with', 'heart', 'attack', 'father', 'had', 'an', 'mi', 'dad', 'had', 'mi', 'father', 'hx', 'of', 'mi', 'father', 'had', 'a', 'heart', 'attack', 'father', 'had', 'mi', 'father', 'with', 'mi', 'father', 'had', 'heart', 'attack', 'heart', 'attack', '1', 'year', 'ago', 'father', 'ather', 'heart', 'attack', 'father', 'heart', 'attack', 'heart', 'attack', 'in', 'father', 'mi', 'at', '52', 'for', 'father', 'dad', 'heart', 'attack', 'father', 'recently', 'had', 'an', 'mi', 'mi', 'in', 'his', 'father', 'father', 'had', 'problems', 'with', 'heart', 'dad', 'with', 'heart', 'attack', 'dad', 'heart', 'problem', 'fh', 'positive', 'for', 'a', 'recent', 'heart', 'attack', 'father', 'mi', 'dad', 'has', 'cardiac', 'issues', 'dad', 'with', 'recent', 'heart', 'attack', 'father', 'mi', 'father', 'mi', 'father', 'had', 'possible', 'mi', 'dad', 'heart', 'attack', 'dad', 'had', 'a', 'heart', 'attack', 'father', 'myocardial', 'infarction', 'cad', 'in', 'father', 'father', 'suffer', 'an', 'mi', 'father', 'with', 'herat', 'attack', 'father', 'has', 'heart', 'problem', 'father', 'had', 'heart', 'disease', 'dad', 'hx', 'mi', 'dad', 'heart', 'attack', 'father', 'with', 'heart', 'attack', 'mi', 'father', 'father', 'mi', 'father', 'had', 'a', 'heart', 'attack']\n"
     ]
    }
   ],
   "source": [
    "# From sentence I'm splitting it into words,\n",
    "feature_word_list = ' '.join(feature_list).split()\n",
    "print(type(feature_word_list))\n",
    "print(feature_word_list)"
   ]
  },
  {
   "cell_type": "code",
   "execution_count": 22,
   "id": "8f327443",
   "metadata": {},
   "outputs": [
    {
     "name": "stdout",
     "output_type": "stream",
     "text": [
      "{'father': 37, 'heart': 26, 'mi': 23, 'attack': 20, 'had': 15, 'dad': 14, 'with': 9, 'recent': 4, 'in': 4, 'a': 4, 'problem': 3, 'an': 3, 'of': 2, 'his': 2, 'recently': 2, 'hx': 2, 'for': 2, 'has': 2, 'attcak': 1, 'acute': 1, 'attach': 1, 'the': 1, '1': 1, 'year': 1, 'ago': 1, 'ather': 1, 'at': 1, '52': 1, 'problems': 1, 'fh': 1, 'positive': 1, 'cardiac': 1, 'issues': 1, 'possible': 1, 'myocardial': 1, 'infarction': 1, 'cad': 1, 'suffer': 1, 'herat': 1, 'disease': 1}\n"
     ]
    }
   ],
   "source": [
    "# Creating a frequency list for each word, so we can find out most used word for this particular feature\n",
    "counter=collections.Counter(feature_word_list)\n",
    "feature_word_list = dict(sorted(counter.items(), key=lambda item: item[1],reverse=True))\n",
    "print(feature_word_list)"
   ]
  },
  {
   "cell_type": "code",
   "execution_count": 23,
   "id": "0965716f",
   "metadata": {},
   "outputs": [],
   "source": [
    "# let's remove common used english words like a and an. For now we've taken only small set of list, \n",
    "# later we will expand it\n",
    "drop_keys = ['had','with','in','a','an','of','his','for','has','the','at']\n",
    "for i in drop_keys:\n",
    "    if i in feature_word_list:\n",
    "        del feature_word_list[i]"
   ]
  },
  {
   "cell_type": "code",
   "execution_count": 24,
   "id": "51cb196d",
   "metadata": {},
   "outputs": [],
   "source": [
    "# removing all words which has frequency less than 5\n",
    "feature_word_list = {key:val for key, val in feature_word_list.items() if val > 4}"
   ]
  },
  {
   "cell_type": "code",
   "execution_count": 25,
   "id": "0866d3d2",
   "metadata": {},
   "outputs": [
    {
     "name": "stdout",
     "output_type": "stream",
     "text": [
      "{'father': 37, 'heart': 26, 'mi': 23, 'attack': 20, 'dad': 14}\n"
     ]
    }
   ],
   "source": [
    "# let's see the final list\n",
    "print(feature_word_list)"
   ]
  },
  {
   "cell_type": "code",
   "execution_count": 26,
   "id": "c1d24d9f",
   "metadata": {},
   "outputs": [
    {
     "name": "stdout",
     "output_type": "stream",
     "text": [
      "<class 'list'>\n",
      "['father', 'heart', 'mi', 'attack', 'dad']\n"
     ]
    }
   ],
   "source": [
    "# Now I'll create a list from the word, currently feature_word_list is a dict with vale as freq\n",
    "final_list = list(feature_word_list.keys())\n",
    "print(type(final_list))\n",
    "print(final_list)"
   ]
  },
  {
   "cell_type": "markdown",
   "id": "065b57fd",
   "metadata": {},
   "source": [
    "###  Now let's create a Method to create Key list for all features"
   ]
  },
  {
   "cell_type": "code",
   "execution_count": 27,
   "id": "adcbf93f",
   "metadata": {},
   "outputs": [],
   "source": [
    "dummy_features = features.copy()\n"
   ]
  },
  {
   "cell_type": "code",
   "execution_count": 28,
   "id": "838cdf3e",
   "metadata": {},
   "outputs": [],
   "source": [
    "def GenerateKeys(string_list, freq):\n",
    "    drop_keys = ['had','with','in','a','an','of','his','for','has','the','at','no','last',\n",
    "                 'ago','to','not','past','was','her','he','his','and','is','have','when','up','but','mo\"]',\n",
    "                 'by','him']\n",
    "    string_word_list = ' '.join(string_list).split()\n",
    "    counter=collections.Counter(string_word_list)\n",
    "    string_word_list = dict(sorted(counter.items(), key=lambda item: item[1],reverse=True))\n",
    "    \n",
    "    for drop_key in drop_keys:\n",
    "        if drop_key in string_word_list:\n",
    "            del string_word_list[drop_key]\n",
    "        \n",
    "    string_word_list = {key:val for key, val in string_word_list.items() if val > freq}\n",
    "    return list(string_word_list.keys())"
   ]
  },
  {
   "cell_type": "code",
   "execution_count": 29,
   "id": "884fd03b",
   "metadata": {},
   "outputs": [],
   "source": [
    "dummy_features.reset_index()\n",
    "\n",
    "for idx,row in dummy_features.iterrows():\n",
    "    string_list = pd.Series(dummy_train[(dummy_train['case_num']==row['case_num']) & (dummy_train['feature_num']==row['feature_num'])]['annotation']).unique()\n",
    "    no = len(string_list)\n",
    "    keys = GenerateKeys(string_list,2)\n",
    "    dummy_features.at[idx,'keys'] = json.dumps(keys)\n",
    "    dummy_features.at[idx,'no_of_notes'] = no\n",
    "    \n",
    "    \n",
    "    "
   ]
  },
  {
   "cell_type": "code",
   "execution_count": 30,
   "id": "29dd46af",
   "metadata": {
    "scrolled": true
   },
   "outputs": [
    {
     "data": {
      "text/html": [
       "<div>\n",
       "<style scoped>\n",
       "    .dataframe tbody tr th:only-of-type {\n",
       "        vertical-align: middle;\n",
       "    }\n",
       "\n",
       "    .dataframe tbody tr th {\n",
       "        vertical-align: top;\n",
       "    }\n",
       "\n",
       "    .dataframe thead th {\n",
       "        text-align: right;\n",
       "    }\n",
       "</style>\n",
       "<table border=\"1\" class=\"dataframe\">\n",
       "  <thead>\n",
       "    <tr style=\"text-align: right;\">\n",
       "      <th></th>\n",
       "      <th>feature_num</th>\n",
       "      <th>case_num</th>\n",
       "      <th>feature_text</th>\n",
       "      <th>keys</th>\n",
       "      <th>no_of_notes</th>\n",
       "    </tr>\n",
       "  </thead>\n",
       "  <tbody>\n",
       "    <tr>\n",
       "      <th>59</th>\n",
       "      <td>400</td>\n",
       "      <td>4</td>\n",
       "      <td>Lack-of-other-thyroid-symptoms</td>\n",
       "      <td>[\"denies\", \"changes\", \"palpitations\", \"intoler...</td>\n",
       "      <td>83.0</td>\n",
       "    </tr>\n",
       "    <tr>\n",
       "      <th>60</th>\n",
       "      <td>401</td>\n",
       "      <td>4</td>\n",
       "      <td>anxious-OR-nervous</td>\n",
       "      <td>[\"nervousness\", \"anxiety\", \"nervous\", \"overwhe...</td>\n",
       "      <td>49.0</td>\n",
       "    </tr>\n",
       "    <tr>\n",
       "      <th>61</th>\n",
       "      <td>402</td>\n",
       "      <td>4</td>\n",
       "      <td>Stress-due-to-caring-for-elderly-parents</td>\n",
       "      <td>[\"care\", \"mother\", \"taking\", \"laws\", \"elderly\"...</td>\n",
       "      <td>58.0</td>\n",
       "    </tr>\n",
       "    <tr>\n",
       "      <th>62</th>\n",
       "      <td>403</td>\n",
       "      <td>4</td>\n",
       "      <td>Heavy-caffeine-use</td>\n",
       "      <td>[\"5\", \"6\", \"coffee\", \"cups\", \"caffeine\", \"day\"...</td>\n",
       "      <td>27.0</td>\n",
       "    </tr>\n",
       "    <tr>\n",
       "      <th>63</th>\n",
       "      <td>404</td>\n",
       "      <td>4</td>\n",
       "      <td>No-depressed-mood</td>\n",
       "      <td>[\"denies\", \"loss\", \"mood\", \"interest\", \"suicid...</td>\n",
       "      <td>50.0</td>\n",
       "    </tr>\n",
       "    <tr>\n",
       "      <th>64</th>\n",
       "      <td>405</td>\n",
       "      <td>4</td>\n",
       "      <td>Weight-stable</td>\n",
       "      <td>[\"weight\", \"denies\", \"loss\", \"changes\", \"chang...</td>\n",
       "      <td>30.0</td>\n",
       "    </tr>\n",
       "    <tr>\n",
       "      <th>65</th>\n",
       "      <td>406</td>\n",
       "      <td>4</td>\n",
       "      <td>Insomnia</td>\n",
       "      <td>[\"asleep\", \"falling\", \"difficulty\", \"sleep\", \"...</td>\n",
       "      <td>43.0</td>\n",
       "    </tr>\n",
       "    <tr>\n",
       "      <th>66</th>\n",
       "      <td>407</td>\n",
       "      <td>4</td>\n",
       "      <td>Female</td>\n",
       "      <td>[\"female\"]</td>\n",
       "      <td>5.0</td>\n",
       "    </tr>\n",
       "    <tr>\n",
       "      <th>67</th>\n",
       "      <td>408</td>\n",
       "      <td>4</td>\n",
       "      <td>Decreased-appetite</td>\n",
       "      <td>[\"appetite\", \"decreased\", \"decrease\", \"apetite...</td>\n",
       "      <td>36.0</td>\n",
       "    </tr>\n",
       "    <tr>\n",
       "      <th>68</th>\n",
       "      <td>409</td>\n",
       "      <td>4</td>\n",
       "      <td>45-year</td>\n",
       "      <td>[\"45\", \"year\"]</td>\n",
       "      <td>12.0</td>\n",
       "    </tr>\n",
       "  </tbody>\n",
       "</table>\n",
       "</div>"
      ],
      "text/plain": [
       "    feature_num  case_num                              feature_text  \\\n",
       "59          400         4            Lack-of-other-thyroid-symptoms   \n",
       "60          401         4                        anxious-OR-nervous   \n",
       "61          402         4  Stress-due-to-caring-for-elderly-parents   \n",
       "62          403         4                        Heavy-caffeine-use   \n",
       "63          404         4                         No-depressed-mood   \n",
       "64          405         4                             Weight-stable   \n",
       "65          406         4                                  Insomnia   \n",
       "66          407         4                                    Female   \n",
       "67          408         4                        Decreased-appetite   \n",
       "68          409         4                                   45-year   \n",
       "\n",
       "                                                 keys  no_of_notes  \n",
       "59  [\"denies\", \"changes\", \"palpitations\", \"intoler...         83.0  \n",
       "60  [\"nervousness\", \"anxiety\", \"nervous\", \"overwhe...         49.0  \n",
       "61  [\"care\", \"mother\", \"taking\", \"laws\", \"elderly\"...         58.0  \n",
       "62  [\"5\", \"6\", \"coffee\", \"cups\", \"caffeine\", \"day\"...         27.0  \n",
       "63  [\"denies\", \"loss\", \"mood\", \"interest\", \"suicid...         50.0  \n",
       "64  [\"weight\", \"denies\", \"loss\", \"changes\", \"chang...         30.0  \n",
       "65  [\"asleep\", \"falling\", \"difficulty\", \"sleep\", \"...         43.0  \n",
       "66                                         [\"female\"]          5.0  \n",
       "67  [\"appetite\", \"decreased\", \"decrease\", \"apetite...         36.0  \n",
       "68                                     [\"45\", \"year\"]         12.0  "
      ]
     },
     "execution_count": 30,
     "metadata": {},
     "output_type": "execute_result"
    }
   ],
   "source": [
    "dummy_features[dummy_features['case_num']==4]"
   ]
  },
  {
   "cell_type": "code",
   "execution_count": 31,
   "id": "a36cff98",
   "metadata": {},
   "outputs": [],
   "source": [
    "# The keys still need some adjustments as it some of them had only 2 notes per feature.\n",
    "# Apart from that I hope this will give some headstart\n",
    "# will continue with notebook and methods to predict the sentence using keys\n",
    "# find the features_with_keys.csv in data section of this notebook\n",
    "dummy_features.to_csv('features_with_keys.csv')"
   ]
  },
  {
   "cell_type": "code",
   "execution_count": 33,
   "id": "27933249",
   "metadata": {
    "scrolled": true
   },
   "outputs": [],
   "source": [
    "# larg_check= np.array(dummy_features['keys'])\n"
   ]
  },
  {
   "cell_type": "code",
   "execution_count": 34,
   "id": "7c313e8d",
   "metadata": {},
   "outputs": [],
   "source": [
    "string_list = pd.Series(dummy_train[(train['case_num']==0) & (train['feature_num']==0)]['annotation']).unique()"
   ]
  },
  {
   "cell_type": "code",
   "execution_count": 35,
   "id": "91befc44",
   "metadata": {},
   "outputs": [
    {
     "data": {
      "text/plain": [
       "['father', 'heart', 'mi', 'attack', 'dad']"
      ]
     },
     "execution_count": 35,
     "metadata": {},
     "output_type": "execute_result"
    }
   ],
   "source": [
    "GenerateKeys(string_list, 4)"
   ]
  },
  {
   "cell_type": "code",
   "execution_count": null,
   "id": "8e013670",
   "metadata": {},
   "outputs": [],
   "source": []
  },
  {
   "cell_type": "code",
   "execution_count": null,
   "id": "142ca3aa",
   "metadata": {},
   "outputs": [],
   "source": []
  },
  {
   "cell_type": "code",
   "execution_count": 36,
   "id": "0bf7f8c9",
   "metadata": {},
   "outputs": [],
   "source": [
    "dummy_features.loc[(dummy_features['feature_num']==0) & (dummy_features['case_num']==0),'keys'] =json.dumps(final_list)"
   ]
  },
  {
   "cell_type": "code",
   "execution_count": 37,
   "id": "1b07e42e",
   "metadata": {},
   "outputs": [
    {
     "name": "stdout",
     "output_type": "stream",
     "text": [
      "<class 'str'>\n"
     ]
    },
    {
     "data": {
      "text/plain": [
       "'[\"father\", \"heart\", \"mi\", \"attack\", \"dad\"]'"
      ]
     },
     "execution_count": 37,
     "metadata": {},
     "output_type": "execute_result"
    }
   ],
   "source": [
    "import json\n",
    "string = json.dumps(final_list)\n",
    "print(type(string))\n",
    "string"
   ]
  },
  {
   "cell_type": "code",
   "execution_count": 38,
   "id": "9ac09cbb",
   "metadata": {},
   "outputs": [
    {
     "name": "stdout",
     "output_type": "stream",
     "text": [
      "<class 'list'>\n"
     ]
    },
    {
     "data": {
      "text/plain": [
       "['father', 'heart', 'mi', 'attack', 'dad']"
      ]
     },
     "execution_count": 38,
     "metadata": {},
     "output_type": "execute_result"
    }
   ],
   "source": [
    "lst = json.loads(string)\n",
    "print(type(lst))\n",
    "lst"
   ]
  },
  {
   "cell_type": "code",
   "execution_count": null,
   "id": "a4e2513b",
   "metadata": {},
   "outputs": [],
   "source": []
  },
  {
   "cell_type": "code",
   "execution_count": null,
   "id": "2a44c5f6",
   "metadata": {},
   "outputs": [],
   "source": []
  },
  {
   "cell_type": "code",
   "execution_count": null,
   "id": "483c347f",
   "metadata": {},
   "outputs": [],
   "source": []
  },
  {
   "cell_type": "code",
   "execution_count": null,
   "id": "82b2b21e",
   "metadata": {},
   "outputs": [],
   "source": []
  },
  {
   "cell_type": "code",
   "execution_count": null,
   "id": "3de7c54a",
   "metadata": {},
   "outputs": [],
   "source": []
  },
  {
   "cell_type": "code",
   "execution_count": null,
   "id": "be3d7f09",
   "metadata": {},
   "outputs": [],
   "source": []
  },
  {
   "cell_type": "code",
   "execution_count": 42,
   "id": "2dce9b3b",
   "metadata": {},
   "outputs": [],
   "source": [
    "# print(note16)"
   ]
  },
  {
   "cell_type": "code",
   "execution_count": 41,
   "id": "c84d731f",
   "metadata": {},
   "outputs": [],
   "source": [
    "# text = note16.replace('.',' ')\n",
    "# pred = ''\n",
    "\n",
    "# for pattern in final_list:\n",
    "#     if text.find(pattern)>0:\n",
    "#             pred += str(text.find(pattern))+' '+str(text.find(pattern)+len(pattern))+';'\n",
    "# pred = pred[:-1]"
   ]
  },
  {
   "cell_type": "code",
   "execution_count": null,
   "id": "9781f2a6",
   "metadata": {},
   "outputs": [],
   "source": [
    "# pred"
   ]
  },
  {
   "cell_type": "code",
   "execution_count": null,
   "id": "0a308639",
   "metadata": {},
   "outputs": [],
   "source": [
    "# text[696:699]"
   ]
  },
  {
   "cell_type": "code",
   "execution_count": null,
   "id": "2a05710f",
   "metadata": {},
   "outputs": [],
   "source": [
    "# final_list"
   ]
  },
  {
   "cell_type": "code",
   "execution_count": null,
   "id": "d1cc9fdb",
   "metadata": {},
   "outputs": [],
   "source": [
    "# sample_submission"
   ]
  },
  {
   "cell_type": "code",
   "execution_count": null,
   "id": "a2caa641",
   "metadata": {},
   "outputs": [],
   "source": []
  }
 ],
 "metadata": {
  "kernelspec": {
   "display_name": "Python 3.7.11 ('py3-TF2.0')",
   "language": "python",
   "name": "python3711jvsc74a57bd0498f662c0313e37f1c1680f85e7dfbcf061d8e009724c62f4f05e89b0b1ac53d"
  },
  "language_info": {
   "codemirror_mode": {
    "name": "ipython",
    "version": 3
   },
   "file_extension": ".py",
   "mimetype": "text/x-python",
   "name": "python",
   "nbconvert_exporter": "python",
   "pygments_lexer": "ipython3",
   "version": "3.7.11"
  }
 },
 "nbformat": 4,
 "nbformat_minor": 5
}
